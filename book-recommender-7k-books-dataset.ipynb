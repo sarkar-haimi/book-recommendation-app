{
 "cells": [
  {
   "cell_type": "code",
   "execution_count": 1,
   "id": "indirect-suffering",
   "metadata": {
    "_cell_guid": "b1076dfc-b9ad-4769-8c92-a6c4dae69d19",
    "_uuid": "8f2839f25d086af736a60e9eeb907d3b93b6e0e5",
    "execution": {
     "iopub.execute_input": "2021-07-09T06:26:16.765233Z",
     "iopub.status.busy": "2021-07-09T06:26:16.763794Z",
     "iopub.status.idle": "2021-07-09T06:26:16.789122Z",
     "shell.execute_reply": "2021-07-09T06:26:16.790032Z",
     "shell.execute_reply.started": "2021-07-07T18:53:52.192854Z"
    },
    "papermill": {
     "duration": 0.061266,
     "end_time": "2021-07-09T06:26:16.790504",
     "exception": false,
     "start_time": "2021-07-09T06:26:16.729238",
     "status": "completed"
    },
    "tags": []
   },
   "outputs": [
    {
     "name": "stdout",
     "output_type": "stream",
     "text": [
      "/kaggle/input/7k-books-with-metadata/books.csv\n"
     ]
    }
   ],
   "source": [
    "# This Python 3 environment comes with many helpful analytics libraries installed\n",
    "# It is defined by the kaggle/python Docker image: https://github.com/kaggle/docker-python\n",
    "# For example, here's several helpful packages to load\n",
    "\n",
    "import numpy as np # linear algebra\n",
    "import pandas as pd # data processing, CSV file I/O (e.g. pd.read_csv)\n",
    "\n",
    "# Input data files are available in the read-only \"../input/\" directory\n",
    "# For example, running this (by clicking run or pressing Shift+Enter) will list all files under the input directory\n",
    "\n",
    "import os\n",
    "for dirname, _, filenames in os.walk('/kaggle/input'):\n",
    "    for filename in filenames:\n",
    "        print(os.path.join(dirname, filename))\n",
    "\n",
    "# You can write up to 20GB to the current directory (/kaggle/working/) that gets preserved as output when you create a version using \"Save & Run All\" \n",
    "# You can also write temporary files to /kaggle/temp/, but they won't be saved outside of the current session"
   ]
  },
  {
   "cell_type": "code",
   "execution_count": 2,
   "id": "applied-particle",
   "metadata": {
    "execution": {
     "iopub.execute_input": "2021-07-09T06:26:16.859870Z",
     "iopub.status.busy": "2021-07-09T06:26:16.857365Z",
     "iopub.status.idle": "2021-07-09T06:26:17.040496Z",
     "shell.execute_reply": "2021-07-09T06:26:17.039870Z",
     "shell.execute_reply.started": "2021-07-07T18:53:55.392774Z"
    },
    "papermill": {
     "duration": 0.218082,
     "end_time": "2021-07-09T06:26:17.040669",
     "exception": false,
     "start_time": "2021-07-09T06:26:16.822587",
     "status": "completed"
    },
    "tags": []
   },
   "outputs": [],
   "source": [
    "book=pd.read_csv('/kaggle/input/7k-books-with-metadata/books.csv')"
   ]
  },
  {
   "cell_type": "code",
   "execution_count": 3,
   "id": "beginning-duration",
   "metadata": {
    "execution": {
     "iopub.execute_input": "2021-07-09T06:26:17.114980Z",
     "iopub.status.busy": "2021-07-09T06:26:17.114334Z",
     "iopub.status.idle": "2021-07-09T06:26:17.138287Z",
     "shell.execute_reply": "2021-07-09T06:26:17.137777Z",
     "shell.execute_reply.started": "2021-07-07T18:53:59.592025Z"
    },
    "papermill": {
     "duration": 0.06694,
     "end_time": "2021-07-09T06:26:17.138423",
     "exception": false,
     "start_time": "2021-07-09T06:26:17.071483",
     "status": "completed"
    },
    "tags": []
   },
   "outputs": [
    {
     "data": {
      "text/html": [
       "<div>\n",
       "<style scoped>\n",
       "    .dataframe tbody tr th:only-of-type {\n",
       "        vertical-align: middle;\n",
       "    }\n",
       "\n",
       "    .dataframe tbody tr th {\n",
       "        vertical-align: top;\n",
       "    }\n",
       "\n",
       "    .dataframe thead th {\n",
       "        text-align: right;\n",
       "    }\n",
       "</style>\n",
       "<table border=\"1\" class=\"dataframe\">\n",
       "  <thead>\n",
       "    <tr style=\"text-align: right;\">\n",
       "      <th></th>\n",
       "      <th>isbn13</th>\n",
       "      <th>isbn10</th>\n",
       "      <th>title</th>\n",
       "      <th>subtitle</th>\n",
       "      <th>authors</th>\n",
       "      <th>categories</th>\n",
       "      <th>thumbnail</th>\n",
       "      <th>description</th>\n",
       "      <th>published_year</th>\n",
       "      <th>average_rating</th>\n",
       "      <th>num_pages</th>\n",
       "      <th>ratings_count</th>\n",
       "    </tr>\n",
       "  </thead>\n",
       "  <tbody>\n",
       "    <tr>\n",
       "      <th>0</th>\n",
       "      <td>9780002005883</td>\n",
       "      <td>0002005883</td>\n",
       "      <td>Gilead</td>\n",
       "      <td>NaN</td>\n",
       "      <td>Marilynne Robinson</td>\n",
       "      <td>Fiction</td>\n",
       "      <td>http://books.google.com/books/content?id=KQZCP...</td>\n",
       "      <td>A NOVEL THAT READERS and critics have been eag...</td>\n",
       "      <td>2004.0</td>\n",
       "      <td>3.85</td>\n",
       "      <td>247.0</td>\n",
       "      <td>361.0</td>\n",
       "    </tr>\n",
       "    <tr>\n",
       "      <th>1</th>\n",
       "      <td>9780002261982</td>\n",
       "      <td>0002261987</td>\n",
       "      <td>Spider's Web</td>\n",
       "      <td>A Novel</td>\n",
       "      <td>Charles Osborne;Agatha Christie</td>\n",
       "      <td>Detective and mystery stories</td>\n",
       "      <td>http://books.google.com/books/content?id=gA5GP...</td>\n",
       "      <td>A new 'Christie for Christmas' -- a full-lengt...</td>\n",
       "      <td>2000.0</td>\n",
       "      <td>3.83</td>\n",
       "      <td>241.0</td>\n",
       "      <td>5164.0</td>\n",
       "    </tr>\n",
       "    <tr>\n",
       "      <th>2</th>\n",
       "      <td>9780006163831</td>\n",
       "      <td>0006163831</td>\n",
       "      <td>The One Tree</td>\n",
       "      <td>NaN</td>\n",
       "      <td>Stephen R. Donaldson</td>\n",
       "      <td>American fiction</td>\n",
       "      <td>http://books.google.com/books/content?id=OmQaw...</td>\n",
       "      <td>Volume Two of Stephen Donaldson's acclaimed se...</td>\n",
       "      <td>1982.0</td>\n",
       "      <td>3.97</td>\n",
       "      <td>479.0</td>\n",
       "      <td>172.0</td>\n",
       "    </tr>\n",
       "  </tbody>\n",
       "</table>\n",
       "</div>"
      ],
      "text/plain": [
       "          isbn13      isbn10         title subtitle  \\\n",
       "0  9780002005883  0002005883        Gilead      NaN   \n",
       "1  9780002261982  0002261987  Spider's Web  A Novel   \n",
       "2  9780006163831  0006163831  The One Tree      NaN   \n",
       "\n",
       "                           authors                     categories  \\\n",
       "0               Marilynne Robinson                        Fiction   \n",
       "1  Charles Osborne;Agatha Christie  Detective and mystery stories   \n",
       "2             Stephen R. Donaldson               American fiction   \n",
       "\n",
       "                                           thumbnail  \\\n",
       "0  http://books.google.com/books/content?id=KQZCP...   \n",
       "1  http://books.google.com/books/content?id=gA5GP...   \n",
       "2  http://books.google.com/books/content?id=OmQaw...   \n",
       "\n",
       "                                         description  published_year  \\\n",
       "0  A NOVEL THAT READERS and critics have been eag...          2004.0   \n",
       "1  A new 'Christie for Christmas' -- a full-lengt...          2000.0   \n",
       "2  Volume Two of Stephen Donaldson's acclaimed se...          1982.0   \n",
       "\n",
       "   average_rating  num_pages  ratings_count  \n",
       "0            3.85      247.0          361.0  \n",
       "1            3.83      241.0         5164.0  \n",
       "2            3.97      479.0          172.0  "
      ]
     },
     "execution_count": 3,
     "metadata": {},
     "output_type": "execute_result"
    }
   ],
   "source": [
    "book.head(3)"
   ]
  },
  {
   "cell_type": "code",
   "execution_count": 4,
   "id": "controversial-basin",
   "metadata": {
    "execution": {
     "iopub.execute_input": "2021-07-09T06:26:17.215973Z",
     "iopub.status.busy": "2021-07-09T06:26:17.214979Z",
     "iopub.status.idle": "2021-07-09T06:26:17.222082Z",
     "shell.execute_reply": "2021-07-09T06:26:17.221345Z",
     "shell.execute_reply.started": "2021-07-07T18:54:02.771755Z"
    },
    "papermill": {
     "duration": 0.051569,
     "end_time": "2021-07-09T06:26:17.222273",
     "exception": false,
     "start_time": "2021-07-09T06:26:17.170704",
     "status": "completed"
    },
    "tags": []
   },
   "outputs": [
    {
     "data": {
      "text/plain": [
       "(6810, 12)"
      ]
     },
     "execution_count": 4,
     "metadata": {},
     "output_type": "execute_result"
    }
   ],
   "source": [
    "book.shape"
   ]
  },
  {
   "cell_type": "code",
   "execution_count": 5,
   "id": "blank-hawaii",
   "metadata": {
    "execution": {
     "iopub.execute_input": "2021-07-09T06:26:17.338818Z",
     "iopub.status.busy": "2021-07-09T06:26:17.338003Z",
     "iopub.status.idle": "2021-07-09T06:26:17.341846Z",
     "shell.execute_reply": "2021-07-09T06:26:17.342341Z",
     "shell.execute_reply.started": "2021-07-07T18:54:06.932145Z"
    },
    "papermill": {
     "duration": 0.079939,
     "end_time": "2021-07-09T06:26:17.342512",
     "exception": false,
     "start_time": "2021-07-09T06:26:17.262573",
     "status": "completed"
    },
    "tags": []
   },
   "outputs": [
    {
     "name": "stdout",
     "output_type": "stream",
     "text": [
      "<class 'pandas.core.frame.DataFrame'>\n",
      "RangeIndex: 6810 entries, 0 to 6809\n",
      "Data columns (total 12 columns):\n",
      " #   Column          Non-Null Count  Dtype  \n",
      "---  ------          --------------  -----  \n",
      " 0   isbn13          6810 non-null   int64  \n",
      " 1   isbn10          6810 non-null   object \n",
      " 2   title           6810 non-null   object \n",
      " 3   subtitle        2381 non-null   object \n",
      " 4   authors         6738 non-null   object \n",
      " 5   categories      6711 non-null   object \n",
      " 6   thumbnail       6481 non-null   object \n",
      " 7   description     6548 non-null   object \n",
      " 8   published_year  6804 non-null   float64\n",
      " 9   average_rating  6767 non-null   float64\n",
      " 10  num_pages       6767 non-null   float64\n",
      " 11  ratings_count   6767 non-null   float64\n",
      "dtypes: float64(4), int64(1), object(7)\n",
      "memory usage: 638.6+ KB\n"
     ]
    }
   ],
   "source": [
    "book.info()"
   ]
  },
  {
   "cell_type": "code",
   "execution_count": 6,
   "id": "approved-yellow",
   "metadata": {
    "execution": {
     "iopub.execute_input": "2021-07-09T06:26:17.417697Z",
     "iopub.status.busy": "2021-07-09T06:26:17.416676Z",
     "iopub.status.idle": "2021-07-09T06:26:17.440105Z",
     "shell.execute_reply": "2021-07-09T06:26:17.439561Z",
     "shell.execute_reply.started": "2021-07-07T18:54:10.817372Z"
    },
    "papermill": {
     "duration": 0.062665,
     "end_time": "2021-07-09T06:26:17.440253",
     "exception": false,
     "start_time": "2021-07-09T06:26:17.377588",
     "status": "completed"
    },
    "tags": []
   },
   "outputs": [
    {
     "data": {
      "text/plain": [
       "0"
      ]
     },
     "execution_count": 6,
     "metadata": {},
     "output_type": "execute_result"
    }
   ],
   "source": [
    "# if there is any duplicate values in dataset\n",
    "book.duplicated().sum()"
   ]
  },
  {
   "cell_type": "code",
   "execution_count": 7,
   "id": "thorough-niagara",
   "metadata": {
    "execution": {
     "iopub.execute_input": "2021-07-09T06:26:17.511783Z",
     "iopub.status.busy": "2021-07-09T06:26:17.511138Z",
     "iopub.status.idle": "2021-07-09T06:26:17.520411Z",
     "shell.execute_reply": "2021-07-09T06:26:17.521293Z",
     "shell.execute_reply.started": "2021-07-07T18:54:13.612571Z"
    },
    "papermill": {
     "duration": 0.049755,
     "end_time": "2021-07-09T06:26:17.521569",
     "exception": false,
     "start_time": "2021-07-09T06:26:17.471814",
     "status": "completed"
    },
    "tags": []
   },
   "outputs": [
    {
     "data": {
      "text/plain": [
       "412"
      ]
     },
     "execution_count": 7,
     "metadata": {},
     "output_type": "execute_result"
    }
   ],
   "source": [
    "# checking for multiple books having same name(duplicates in col title)\n",
    "book['title'].duplicated().sum()"
   ]
  },
  {
   "cell_type": "code",
   "execution_count": 8,
   "id": "surface-conclusion",
   "metadata": {
    "execution": {
     "iopub.execute_input": "2021-07-09T06:26:17.610502Z",
     "iopub.status.busy": "2021-07-09T06:26:17.609600Z",
     "iopub.status.idle": "2021-07-09T06:26:17.620221Z",
     "shell.execute_reply": "2021-07-09T06:26:17.620757Z",
     "shell.execute_reply.started": "2021-07-07T18:54:16.591976Z"
    },
    "papermill": {
     "duration": 0.049738,
     "end_time": "2021-07-09T06:26:17.620927",
     "exception": false,
     "start_time": "2021-07-09T06:26:17.571189",
     "status": "completed"
    },
    "tags": []
   },
   "outputs": [
    {
     "data": {
      "text/plain": [
       "isbn13               0\n",
       "isbn10               0\n",
       "title                0\n",
       "subtitle          4429\n",
       "authors             72\n",
       "categories          99\n",
       "thumbnail          329\n",
       "description        262\n",
       "published_year       6\n",
       "average_rating      43\n",
       "num_pages           43\n",
       "ratings_count       43\n",
       "dtype: int64"
      ]
     },
     "execution_count": 8,
     "metadata": {},
     "output_type": "execute_result"
    }
   ],
   "source": [
    "# if there is any missing values in dataset\n",
    "book.isnull().sum()"
   ]
  },
  {
   "cell_type": "code",
   "execution_count": 9,
   "id": "changed-intranet",
   "metadata": {
    "execution": {
     "iopub.execute_input": "2021-07-09T06:26:17.691005Z",
     "iopub.status.busy": "2021-07-09T06:26:17.690054Z",
     "iopub.status.idle": "2021-07-09T06:26:17.699163Z",
     "shell.execute_reply": "2021-07-09T06:26:17.698503Z",
     "shell.execute_reply.started": "2021-07-07T18:54:19.54135Z"
    },
    "papermill": {
     "duration": 0.04436,
     "end_time": "2021-07-09T06:26:17.699305",
     "exception": false,
     "start_time": "2021-07-09T06:26:17.654945",
     "status": "completed"
    },
    "tags": []
   },
   "outputs": [],
   "source": [
    "# to delete unuseful cols\n",
    "book=book.drop(columns=['isbn10','subtitle','thumbnail','published_year','num_pages','ratings_count'],axis=1)"
   ]
  },
  {
   "cell_type": "code",
   "execution_count": 10,
   "id": "charming-appendix",
   "metadata": {
    "execution": {
     "iopub.execute_input": "2021-07-09T06:26:17.779100Z",
     "iopub.status.busy": "2021-07-09T06:26:17.777505Z",
     "iopub.status.idle": "2021-07-09T06:26:17.782922Z",
     "shell.execute_reply": "2021-07-09T06:26:17.782395Z",
     "shell.execute_reply.started": "2021-07-07T18:54:26.027114Z"
    },
    "papermill": {
     "duration": 0.051137,
     "end_time": "2021-07-09T06:26:17.783061",
     "exception": false,
     "start_time": "2021-07-09T06:26:17.731924",
     "status": "completed"
    },
    "tags": []
   },
   "outputs": [
    {
     "data": {
      "text/html": [
       "<div>\n",
       "<style scoped>\n",
       "    .dataframe tbody tr th:only-of-type {\n",
       "        vertical-align: middle;\n",
       "    }\n",
       "\n",
       "    .dataframe tbody tr th {\n",
       "        vertical-align: top;\n",
       "    }\n",
       "\n",
       "    .dataframe thead th {\n",
       "        text-align: right;\n",
       "    }\n",
       "</style>\n",
       "<table border=\"1\" class=\"dataframe\">\n",
       "  <thead>\n",
       "    <tr style=\"text-align: right;\">\n",
       "      <th></th>\n",
       "      <th>isbn13</th>\n",
       "      <th>title</th>\n",
       "      <th>authors</th>\n",
       "      <th>categories</th>\n",
       "      <th>description</th>\n",
       "      <th>average_rating</th>\n",
       "    </tr>\n",
       "  </thead>\n",
       "  <tbody>\n",
       "    <tr>\n",
       "      <th>0</th>\n",
       "      <td>9780002005883</td>\n",
       "      <td>Gilead</td>\n",
       "      <td>Marilynne Robinson</td>\n",
       "      <td>Fiction</td>\n",
       "      <td>A NOVEL THAT READERS and critics have been eag...</td>\n",
       "      <td>3.85</td>\n",
       "    </tr>\n",
       "    <tr>\n",
       "      <th>1</th>\n",
       "      <td>9780002261982</td>\n",
       "      <td>Spider's Web</td>\n",
       "      <td>Charles Osborne;Agatha Christie</td>\n",
       "      <td>Detective and mystery stories</td>\n",
       "      <td>A new 'Christie for Christmas' -- a full-lengt...</td>\n",
       "      <td>3.83</td>\n",
       "    </tr>\n",
       "    <tr>\n",
       "      <th>2</th>\n",
       "      <td>9780006163831</td>\n",
       "      <td>The One Tree</td>\n",
       "      <td>Stephen R. Donaldson</td>\n",
       "      <td>American fiction</td>\n",
       "      <td>Volume Two of Stephen Donaldson's acclaimed se...</td>\n",
       "      <td>3.97</td>\n",
       "    </tr>\n",
       "    <tr>\n",
       "      <th>3</th>\n",
       "      <td>9780006178736</td>\n",
       "      <td>Rage of angels</td>\n",
       "      <td>Sidney Sheldon</td>\n",
       "      <td>Fiction</td>\n",
       "      <td>A memorable, mesmerizing heroine Jennifer -- b...</td>\n",
       "      <td>3.93</td>\n",
       "    </tr>\n",
       "    <tr>\n",
       "      <th>4</th>\n",
       "      <td>9780006280897</td>\n",
       "      <td>The Four Loves</td>\n",
       "      <td>Clive Staples Lewis</td>\n",
       "      <td>Christian life</td>\n",
       "      <td>Lewis' work on the nature of love divides love...</td>\n",
       "      <td>4.15</td>\n",
       "    </tr>\n",
       "  </tbody>\n",
       "</table>\n",
       "</div>"
      ],
      "text/plain": [
       "          isbn13           title                          authors  \\\n",
       "0  9780002005883          Gilead               Marilynne Robinson   \n",
       "1  9780002261982    Spider's Web  Charles Osborne;Agatha Christie   \n",
       "2  9780006163831    The One Tree             Stephen R. Donaldson   \n",
       "3  9780006178736  Rage of angels                   Sidney Sheldon   \n",
       "4  9780006280897  The Four Loves              Clive Staples Lewis   \n",
       "\n",
       "                      categories  \\\n",
       "0                        Fiction   \n",
       "1  Detective and mystery stories   \n",
       "2               American fiction   \n",
       "3                        Fiction   \n",
       "4                 Christian life   \n",
       "\n",
       "                                         description  average_rating  \n",
       "0  A NOVEL THAT READERS and critics have been eag...            3.85  \n",
       "1  A new 'Christie for Christmas' -- a full-lengt...            3.83  \n",
       "2  Volume Two of Stephen Donaldson's acclaimed se...            3.97  \n",
       "3  A memorable, mesmerizing heroine Jennifer -- b...            3.93  \n",
       "4  Lewis' work on the nature of love divides love...            4.15  "
      ]
     },
     "execution_count": 10,
     "metadata": {},
     "output_type": "execute_result"
    }
   ],
   "source": [
    "book.head()"
   ]
  },
  {
   "cell_type": "code",
   "execution_count": 11,
   "id": "split-farmer",
   "metadata": {
    "execution": {
     "iopub.execute_input": "2021-07-09T06:26:17.856468Z",
     "iopub.status.busy": "2021-07-09T06:26:17.855594Z",
     "iopub.status.idle": "2021-07-09T06:26:17.861119Z",
     "shell.execute_reply": "2021-07-09T06:26:17.860442Z",
     "shell.execute_reply.started": "2021-07-07T18:54:29.311632Z"
    },
    "papermill": {
     "duration": 0.043625,
     "end_time": "2021-07-09T06:26:17.861268",
     "exception": false,
     "start_time": "2021-07-09T06:26:17.817643",
     "status": "completed"
    },
    "tags": []
   },
   "outputs": [
    {
     "data": {
      "text/plain": [
       "(6810, 6)"
      ]
     },
     "execution_count": 11,
     "metadata": {},
     "output_type": "execute_result"
    }
   ],
   "source": [
    "book.shape"
   ]
  },
  {
   "cell_type": "code",
   "execution_count": 12,
   "id": "developmental-devices",
   "metadata": {
    "execution": {
     "iopub.execute_input": "2021-07-09T06:26:17.934505Z",
     "iopub.status.busy": "2021-07-09T06:26:17.933866Z",
     "iopub.status.idle": "2021-07-09T06:26:17.954792Z",
     "shell.execute_reply": "2021-07-09T06:26:17.954220Z",
     "shell.execute_reply.started": "2021-07-07T18:54:32.252336Z"
    },
    "papermill": {
     "duration": 0.058968,
     "end_time": "2021-07-09T06:26:17.954941",
     "exception": false,
     "start_time": "2021-07-09T06:26:17.895973",
     "status": "completed"
    },
    "tags": []
   },
   "outputs": [],
   "source": [
    "# considering the avg.rating equals or above 3.70\n",
    "book=book[book['average_rating']>=3.70]"
   ]
  },
  {
   "cell_type": "code",
   "execution_count": 13,
   "id": "german-pride",
   "metadata": {
    "execution": {
     "iopub.execute_input": "2021-07-09T06:26:18.031655Z",
     "iopub.status.busy": "2021-07-09T06:26:18.030956Z",
     "iopub.status.idle": "2021-07-09T06:26:18.033702Z",
     "shell.execute_reply": "2021-07-09T06:26:18.034105Z",
     "shell.execute_reply.started": "2021-07-07T18:54:34.91138Z"
    },
    "papermill": {
     "duration": 0.043304,
     "end_time": "2021-07-09T06:26:18.034307",
     "exception": false,
     "start_time": "2021-07-09T06:26:17.991003",
     "status": "completed"
    },
    "tags": []
   },
   "outputs": [
    {
     "data": {
      "text/plain": [
       "(5533, 6)"
      ]
     },
     "execution_count": 13,
     "metadata": {},
     "output_type": "execute_result"
    }
   ],
   "source": [
    "book.shape"
   ]
  },
  {
   "cell_type": "code",
   "execution_count": 14,
   "id": "secret-blame",
   "metadata": {
    "execution": {
     "iopub.execute_input": "2021-07-09T06:26:18.106598Z",
     "iopub.status.busy": "2021-07-09T06:26:18.105951Z",
     "iopub.status.idle": "2021-07-09T06:26:18.116113Z",
     "shell.execute_reply": "2021-07-09T06:26:18.115418Z",
     "shell.execute_reply.started": "2021-07-07T18:54:36.991713Z"
    },
    "papermill": {
     "duration": 0.045947,
     "end_time": "2021-07-09T06:26:18.116265",
     "exception": false,
     "start_time": "2021-07-09T06:26:18.070318",
     "status": "completed"
    },
    "tags": []
   },
   "outputs": [
    {
     "data": {
      "text/plain": [
       "isbn13              0\n",
       "title               0\n",
       "authors            63\n",
       "categories         81\n",
       "description       212\n",
       "average_rating      0\n",
       "dtype: int64"
      ]
     },
     "execution_count": 14,
     "metadata": {},
     "output_type": "execute_result"
    }
   ],
   "source": [
    "book.isnull().sum()"
   ]
  },
  {
   "cell_type": "code",
   "execution_count": 15,
   "id": "french-lawrence",
   "metadata": {
    "execution": {
     "iopub.execute_input": "2021-07-09T06:26:18.189887Z",
     "iopub.status.busy": "2021-07-09T06:26:18.188806Z",
     "iopub.status.idle": "2021-07-09T06:26:18.196816Z",
     "shell.execute_reply": "2021-07-09T06:26:18.197251Z",
     "shell.execute_reply.started": "2021-07-07T18:54:39.237027Z"
    },
    "papermill": {
     "duration": 0.046393,
     "end_time": "2021-07-09T06:26:18.197437",
     "exception": false,
     "start_time": "2021-07-09T06:26:18.151044",
     "status": "completed"
    },
    "tags": []
   },
   "outputs": [],
   "source": [
    "#deleting all missing values\n",
    "book.dropna(inplace=True)"
   ]
  },
  {
   "cell_type": "code",
   "execution_count": 16,
   "id": "functional-minute",
   "metadata": {
    "execution": {
     "iopub.execute_input": "2021-07-09T06:26:18.268867Z",
     "iopub.status.busy": "2021-07-09T06:26:18.268234Z",
     "iopub.status.idle": "2021-07-09T06:26:18.273204Z",
     "shell.execute_reply": "2021-07-09T06:26:18.273644Z",
     "shell.execute_reply.started": "2021-07-07T18:54:47.812457Z"
    },
    "papermill": {
     "duration": 0.042973,
     "end_time": "2021-07-09T06:26:18.273839",
     "exception": false,
     "start_time": "2021-07-09T06:26:18.230866",
     "status": "completed"
    },
    "tags": []
   },
   "outputs": [
    {
     "data": {
      "text/plain": [
       "(5237, 6)"
      ]
     },
     "execution_count": 16,
     "metadata": {},
     "output_type": "execute_result"
    }
   ],
   "source": [
    "book.shape"
   ]
  },
  {
   "cell_type": "code",
   "execution_count": 17,
   "id": "athletic-arrangement",
   "metadata": {
    "execution": {
     "iopub.execute_input": "2021-07-09T06:26:18.351797Z",
     "iopub.status.busy": "2021-07-09T06:26:18.350874Z",
     "iopub.status.idle": "2021-07-09T06:26:18.354499Z",
     "shell.execute_reply": "2021-07-09T06:26:18.354957Z",
     "shell.execute_reply.started": "2021-07-07T18:54:50.721504Z"
    },
    "papermill": {
     "duration": 0.047563,
     "end_time": "2021-07-09T06:26:18.355124",
     "exception": false,
     "start_time": "2021-07-09T06:26:18.307561",
     "status": "completed"
    },
    "tags": []
   },
   "outputs": [
    {
     "data": {
      "text/plain": [
       "isbn13            0\n",
       "title             0\n",
       "authors           0\n",
       "categories        0\n",
       "description       0\n",
       "average_rating    0\n",
       "dtype: int64"
      ]
     },
     "execution_count": 17,
     "metadata": {},
     "output_type": "execute_result"
    }
   ],
   "source": [
    "book.isnull().sum()"
   ]
  },
  {
   "cell_type": "code",
   "execution_count": 18,
   "id": "single-beijing",
   "metadata": {
    "execution": {
     "iopub.execute_input": "2021-07-09T06:26:18.428792Z",
     "iopub.status.busy": "2021-07-09T06:26:18.427911Z",
     "iopub.status.idle": "2021-07-09T06:26:18.442284Z",
     "shell.execute_reply": "2021-07-09T06:26:18.441806Z",
     "shell.execute_reply.started": "2021-07-07T18:54:53.452127Z"
    },
    "papermill": {
     "duration": 0.051756,
     "end_time": "2021-07-09T06:26:18.442426",
     "exception": false,
     "start_time": "2021-07-09T06:26:18.390670",
     "status": "completed"
    },
    "tags": []
   },
   "outputs": [
    {
     "data": {
      "text/html": [
       "<div>\n",
       "<style scoped>\n",
       "    .dataframe tbody tr th:only-of-type {\n",
       "        vertical-align: middle;\n",
       "    }\n",
       "\n",
       "    .dataframe tbody tr th {\n",
       "        vertical-align: top;\n",
       "    }\n",
       "\n",
       "    .dataframe thead th {\n",
       "        text-align: right;\n",
       "    }\n",
       "</style>\n",
       "<table border=\"1\" class=\"dataframe\">\n",
       "  <thead>\n",
       "    <tr style=\"text-align: right;\">\n",
       "      <th></th>\n",
       "      <th>isbn13</th>\n",
       "      <th>title</th>\n",
       "      <th>authors</th>\n",
       "      <th>categories</th>\n",
       "      <th>description</th>\n",
       "      <th>average_rating</th>\n",
       "    </tr>\n",
       "  </thead>\n",
       "  <tbody>\n",
       "    <tr>\n",
       "      <th>5310</th>\n",
       "      <td>9780823016624</td>\n",
       "      <td>Freaks!</td>\n",
       "      <td>Steve Miller</td>\n",
       "      <td>Art</td>\n",
       "      <td>Presents a how-to drawing guide that offers in...</td>\n",
       "      <td>4.06</td>\n",
       "    </tr>\n",
       "    <tr>\n",
       "      <th>1344</th>\n",
       "      <td>9780253209306</td>\n",
       "      <td>Dante's Inferno</td>\n",
       "      <td>Dante (Alighieri);Dante Alighieri</td>\n",
       "      <td>Poetry</td>\n",
       "      <td>Presents a verse translation of Dante's \"Infer...</td>\n",
       "      <td>4.00</td>\n",
       "    </tr>\n",
       "    <tr>\n",
       "      <th>1626</th>\n",
       "      <td>9780312985349</td>\n",
       "      <td>Eleven on Top</td>\n",
       "      <td>Janet Evanovich</td>\n",
       "      <td>Fiction</td>\n",
       "      <td>Hoping to discontinue her career as a bounty h...</td>\n",
       "      <td>4.16</td>\n",
       "    </tr>\n",
       "    <tr>\n",
       "      <th>2923</th>\n",
       "      <td>9780446699556</td>\n",
       "      <td>The Closers</td>\n",
       "      <td>Michael Connelly</td>\n",
       "      <td>Fiction</td>\n",
       "      <td>In this #1 New York Times bestseller, Detectiv...</td>\n",
       "      <td>4.12</td>\n",
       "    </tr>\n",
       "    <tr>\n",
       "      <th>4405</th>\n",
       "      <td>9780743428675</td>\n",
       "      <td>Black Cat</td>\n",
       "      <td>V. C. Andrews</td>\n",
       "      <td>Fiction</td>\n",
       "      <td>Still maintaining her guise as her deceased br...</td>\n",
       "      <td>3.75</td>\n",
       "    </tr>\n",
       "  </tbody>\n",
       "</table>\n",
       "</div>"
      ],
      "text/plain": [
       "             isbn13            title                            authors  \\\n",
       "5310  9780823016624          Freaks!                       Steve Miller   \n",
       "1344  9780253209306  Dante's Inferno  Dante (Alighieri);Dante Alighieri   \n",
       "1626  9780312985349    Eleven on Top                    Janet Evanovich   \n",
       "2923  9780446699556      The Closers                   Michael Connelly   \n",
       "4405  9780743428675        Black Cat                      V. C. Andrews   \n",
       "\n",
       "     categories                                        description  \\\n",
       "5310        Art  Presents a how-to drawing guide that offers in...   \n",
       "1344     Poetry  Presents a verse translation of Dante's \"Infer...   \n",
       "1626    Fiction  Hoping to discontinue her career as a bounty h...   \n",
       "2923    Fiction  In this #1 New York Times bestseller, Detectiv...   \n",
       "4405    Fiction  Still maintaining her guise as her deceased br...   \n",
       "\n",
       "      average_rating  \n",
       "5310            4.06  \n",
       "1344            4.00  \n",
       "1626            4.16  \n",
       "2923            4.12  \n",
       "4405            3.75  "
      ]
     },
     "execution_count": 18,
     "metadata": {},
     "output_type": "execute_result"
    }
   ],
   "source": [
    "book.sample(5)"
   ]
  },
  {
   "cell_type": "code",
   "execution_count": 19,
   "id": "portuguese-transition",
   "metadata": {
    "execution": {
     "iopub.execute_input": "2021-07-09T06:26:18.531028Z",
     "iopub.status.busy": "2021-07-09T06:26:18.530406Z",
     "iopub.status.idle": "2021-07-09T06:26:18.535015Z",
     "shell.execute_reply": "2021-07-09T06:26:18.534479Z",
     "shell.execute_reply.started": "2021-07-07T18:54:56.152408Z"
    },
    "papermill": {
     "duration": 0.055797,
     "end_time": "2021-07-09T06:26:18.535161",
     "exception": false,
     "start_time": "2021-07-09T06:26:18.479364",
     "status": "completed"
    },
    "tags": []
   },
   "outputs": [
    {
     "name": "stdout",
     "output_type": "stream",
     "text": [
      "<class 'pandas.core.frame.DataFrame'>\n",
      "Int64Index: 5237 entries, 0 to 6809\n",
      "Data columns (total 6 columns):\n",
      " #   Column          Non-Null Count  Dtype  \n",
      "---  ------          --------------  -----  \n",
      " 0   isbn13          5237 non-null   int64  \n",
      " 1   title           5237 non-null   object \n",
      " 2   authors         5237 non-null   object \n",
      " 3   categories      5237 non-null   object \n",
      " 4   description     5237 non-null   object \n",
      " 5   average_rating  5237 non-null   float64\n",
      "dtypes: float64(1), int64(1), object(4)\n",
      "memory usage: 286.4+ KB\n"
     ]
    }
   ],
   "source": [
    "book.info()"
   ]
  },
  {
   "cell_type": "code",
   "execution_count": 20,
   "id": "accepted-commissioner",
   "metadata": {
    "execution": {
     "iopub.execute_input": "2021-07-09T06:26:18.613542Z",
     "iopub.status.busy": "2021-07-09T06:26:18.612934Z",
     "iopub.status.idle": "2021-07-09T06:26:18.616006Z",
     "shell.execute_reply": "2021-07-09T06:26:18.615385Z",
     "shell.execute_reply.started": "2021-07-07T18:54:59.391603Z"
    },
    "papermill": {
     "duration": 0.045165,
     "end_time": "2021-07-09T06:26:18.616186",
     "exception": false,
     "start_time": "2021-07-09T06:26:18.571021",
     "status": "completed"
    },
    "tags": []
   },
   "outputs": [],
   "source": [
    "book=book.reset_index(drop=True)"
   ]
  },
  {
   "cell_type": "code",
   "execution_count": 21,
   "id": "distinct-passport",
   "metadata": {
    "execution": {
     "iopub.execute_input": "2021-07-09T06:26:18.698888Z",
     "iopub.status.busy": "2021-07-09T06:26:18.698021Z",
     "iopub.status.idle": "2021-07-09T06:26:18.702003Z",
     "shell.execute_reply": "2021-07-09T06:26:18.701438Z",
     "shell.execute_reply.started": "2021-07-07T18:55:02.651948Z"
    },
    "papermill": {
     "duration": 0.05106,
     "end_time": "2021-07-09T06:26:18.702136",
     "exception": false,
     "start_time": "2021-07-09T06:26:18.651076",
     "status": "completed"
    },
    "tags": []
   },
   "outputs": [
    {
     "data": {
      "text/html": [
       "<div>\n",
       "<style scoped>\n",
       "    .dataframe tbody tr th:only-of-type {\n",
       "        vertical-align: middle;\n",
       "    }\n",
       "\n",
       "    .dataframe tbody tr th {\n",
       "        vertical-align: top;\n",
       "    }\n",
       "\n",
       "    .dataframe thead th {\n",
       "        text-align: right;\n",
       "    }\n",
       "</style>\n",
       "<table border=\"1\" class=\"dataframe\">\n",
       "  <thead>\n",
       "    <tr style=\"text-align: right;\">\n",
       "      <th></th>\n",
       "      <th>isbn13</th>\n",
       "      <th>title</th>\n",
       "      <th>authors</th>\n",
       "      <th>categories</th>\n",
       "      <th>description</th>\n",
       "      <th>average_rating</th>\n",
       "    </tr>\n",
       "  </thead>\n",
       "  <tbody>\n",
       "    <tr>\n",
       "      <th>5235</th>\n",
       "      <td>9788185300535</td>\n",
       "      <td>I Am that</td>\n",
       "      <td>Sri Nisargadatta Maharaj;Sudhakar S. Dikshit</td>\n",
       "      <td>Philosophy</td>\n",
       "      <td>This collection of the timeless teachings of o...</td>\n",
       "      <td>4.51</td>\n",
       "    </tr>\n",
       "    <tr>\n",
       "      <th>5236</th>\n",
       "      <td>9789042003408</td>\n",
       "      <td>'I'm Telling You Stories'</td>\n",
       "      <td>Helena Grice;Tim Woods</td>\n",
       "      <td>Literary Criticism</td>\n",
       "      <td>This is a jubilant and rewarding collection of...</td>\n",
       "      <td>3.70</td>\n",
       "    </tr>\n",
       "  </tbody>\n",
       "</table>\n",
       "</div>"
      ],
      "text/plain": [
       "             isbn13                      title  \\\n",
       "5235  9788185300535                  I Am that   \n",
       "5236  9789042003408  'I'm Telling You Stories'   \n",
       "\n",
       "                                           authors          categories  \\\n",
       "5235  Sri Nisargadatta Maharaj;Sudhakar S. Dikshit          Philosophy   \n",
       "5236                        Helena Grice;Tim Woods  Literary Criticism   \n",
       "\n",
       "                                            description  average_rating  \n",
       "5235  This collection of the timeless teachings of o...            4.51  \n",
       "5236  This is a jubilant and rewarding collection of...            3.70  "
      ]
     },
     "execution_count": 21,
     "metadata": {},
     "output_type": "execute_result"
    }
   ],
   "source": [
    "book.tail(2)"
   ]
  },
  {
   "cell_type": "code",
   "execution_count": 22,
   "id": "dangerous-auckland",
   "metadata": {
    "execution": {
     "iopub.execute_input": "2021-07-09T06:26:18.780189Z",
     "iopub.status.busy": "2021-07-09T06:26:18.779379Z",
     "iopub.status.idle": "2021-07-09T06:26:18.782803Z",
     "shell.execute_reply": "2021-07-09T06:26:18.782284Z",
     "shell.execute_reply.started": "2021-07-07T18:55:05.212058Z"
    },
    "papermill": {
     "duration": 0.046042,
     "end_time": "2021-07-09T06:26:18.782948",
     "exception": false,
     "start_time": "2021-07-09T06:26:18.736906",
     "status": "completed"
    },
    "tags": []
   },
   "outputs": [],
   "source": [
    "# removing the spaces in between the names of authors col\n",
    "book['authors']=book['authors'].apply(lambda x:x.replace(\" \",\"\"))"
   ]
  },
  {
   "cell_type": "code",
   "execution_count": 23,
   "id": "vanilla-arthritis",
   "metadata": {
    "execution": {
     "iopub.execute_input": "2021-07-09T06:26:18.919462Z",
     "iopub.status.busy": "2021-07-09T06:26:18.911097Z",
     "iopub.status.idle": "2021-07-09T06:26:18.998761Z",
     "shell.execute_reply": "2021-07-09T06:26:18.999492Z",
     "shell.execute_reply.started": "2021-07-07T18:55:07.302355Z"
    },
    "papermill": {
     "duration": 0.173934,
     "end_time": "2021-07-09T06:26:18.999776",
     "exception": false,
     "start_time": "2021-07-09T06:26:18.825842",
     "status": "completed"
    },
    "tags": []
   },
   "outputs": [
    {
     "data": {
      "text/html": [
       "<div>\n",
       "<style scoped>\n",
       "    .dataframe tbody tr th:only-of-type {\n",
       "        vertical-align: middle;\n",
       "    }\n",
       "\n",
       "    .dataframe tbody tr th {\n",
       "        vertical-align: top;\n",
       "    }\n",
       "\n",
       "    .dataframe thead th {\n",
       "        text-align: right;\n",
       "    }\n",
       "</style>\n",
       "<table border=\"1\" class=\"dataframe\">\n",
       "  <thead>\n",
       "    <tr style=\"text-align: right;\">\n",
       "      <th></th>\n",
       "      <th>isbn13</th>\n",
       "      <th>title</th>\n",
       "      <th>authors</th>\n",
       "      <th>categories</th>\n",
       "      <th>description</th>\n",
       "      <th>average_rating</th>\n",
       "    </tr>\n",
       "  </thead>\n",
       "  <tbody>\n",
       "    <tr>\n",
       "      <th>0</th>\n",
       "      <td>9780002005883</td>\n",
       "      <td>Gilead</td>\n",
       "      <td>[MarilynneRobinson]</td>\n",
       "      <td>[Fiction]</td>\n",
       "      <td>[A, NOVEL, THAT, READERS, and, critics, have, ...</td>\n",
       "      <td>[3.85]</td>\n",
       "    </tr>\n",
       "    <tr>\n",
       "      <th>1</th>\n",
       "      <td>9780002261982</td>\n",
       "      <td>Spider's Web</td>\n",
       "      <td>[CharlesOsborne;AgathaChristie]</td>\n",
       "      <td>[Detective, and, mystery, stories]</td>\n",
       "      <td>[A, new, 'Christie, for, Christmas', --, a, fu...</td>\n",
       "      <td>[3.83]</td>\n",
       "    </tr>\n",
       "    <tr>\n",
       "      <th>2</th>\n",
       "      <td>9780006163831</td>\n",
       "      <td>The One Tree</td>\n",
       "      <td>[StephenR.Donaldson]</td>\n",
       "      <td>[American, fiction]</td>\n",
       "      <td>[Volume, Two, of, Stephen, Donaldson's, acclai...</td>\n",
       "      <td>[3.97]</td>\n",
       "    </tr>\n",
       "    <tr>\n",
       "      <th>3</th>\n",
       "      <td>9780006178736</td>\n",
       "      <td>Rage of angels</td>\n",
       "      <td>[SidneySheldon]</td>\n",
       "      <td>[Fiction]</td>\n",
       "      <td>[A, memorable,, mesmerizing, heroine, Jennifer...</td>\n",
       "      <td>[3.93]</td>\n",
       "    </tr>\n",
       "    <tr>\n",
       "      <th>4</th>\n",
       "      <td>9780006280897</td>\n",
       "      <td>The Four Loves</td>\n",
       "      <td>[CliveStaplesLewis]</td>\n",
       "      <td>[Christian, life]</td>\n",
       "      <td>[Lewis', work, on, the, nature, of, love, divi...</td>\n",
       "      <td>[4.15]</td>\n",
       "    </tr>\n",
       "  </tbody>\n",
       "</table>\n",
       "</div>"
      ],
      "text/plain": [
       "          isbn13           title                          authors  \\\n",
       "0  9780002005883          Gilead              [MarilynneRobinson]   \n",
       "1  9780002261982    Spider's Web  [CharlesOsborne;AgathaChristie]   \n",
       "2  9780006163831    The One Tree             [StephenR.Donaldson]   \n",
       "3  9780006178736  Rage of angels                  [SidneySheldon]   \n",
       "4  9780006280897  The Four Loves              [CliveStaplesLewis]   \n",
       "\n",
       "                           categories  \\\n",
       "0                           [Fiction]   \n",
       "1  [Detective, and, mystery, stories]   \n",
       "2                 [American, fiction]   \n",
       "3                           [Fiction]   \n",
       "4                   [Christian, life]   \n",
       "\n",
       "                                         description average_rating  \n",
       "0  [A, NOVEL, THAT, READERS, and, critics, have, ...         [3.85]  \n",
       "1  [A, new, 'Christie, for, Christmas', --, a, fu...         [3.83]  \n",
       "2  [Volume, Two, of, Stephen, Donaldson's, acclai...         [3.97]  \n",
       "3  [A, memorable,, mesmerizing, heroine, Jennifer...         [3.93]  \n",
       "4  [Lewis', work, on, the, nature, of, love, divi...         [4.15]  "
      ]
     },
     "execution_count": 23,
     "metadata": {},
     "output_type": "execute_result"
    }
   ],
   "source": [
    "# splitting the string cols into list\n",
    "book['description']=book['description'].apply(lambda x:x.split())\n",
    "book['categories']=book['categories'].apply(lambda x:x.split())\n",
    "book['authors']=book['authors'].apply(lambda x:x.split())\n",
    "book['average_rating'] = book['average_rating'].apply(lambda x:str(x).split())\n",
    "book.head()"
   ]
  },
  {
   "cell_type": "code",
   "execution_count": 24,
   "id": "synthetic-financing",
   "metadata": {
    "execution": {
     "iopub.execute_input": "2021-07-09T06:26:19.146806Z",
     "iopub.status.busy": "2021-07-09T06:26:19.131724Z",
     "iopub.status.idle": "2021-07-09T06:26:19.156450Z",
     "shell.execute_reply": "2021-07-09T06:26:19.155158Z",
     "shell.execute_reply.started": "2021-07-07T18:55:10.112207Z"
    },
    "papermill": {
     "duration": 0.102949,
     "end_time": "2021-07-09T06:26:19.156707",
     "exception": false,
     "start_time": "2021-07-09T06:26:19.053758",
     "status": "completed"
    },
    "tags": []
   },
   "outputs": [],
   "source": [
    "# to concatenate all cols into a single col \"total\"\n",
    "book['total']=book['authors']+book['categories']+book['description']+book['average_rating']"
   ]
  },
  {
   "cell_type": "code",
   "execution_count": 25,
   "id": "killing-hawaii",
   "metadata": {
    "execution": {
     "iopub.execute_input": "2021-07-09T06:26:19.298898Z",
     "iopub.status.busy": "2021-07-09T06:26:19.298043Z",
     "iopub.status.idle": "2021-07-09T06:26:19.305959Z",
     "shell.execute_reply": "2021-07-09T06:26:19.305400Z",
     "shell.execute_reply.started": "2021-07-07T18:55:15.692253Z"
    },
    "papermill": {
     "duration": 0.093605,
     "end_time": "2021-07-09T06:26:19.306107",
     "exception": false,
     "start_time": "2021-07-09T06:26:19.212502",
     "status": "completed"
    },
    "tags": []
   },
   "outputs": [
    {
     "data": {
      "text/html": [
       "<div>\n",
       "<style scoped>\n",
       "    .dataframe tbody tr th:only-of-type {\n",
       "        vertical-align: middle;\n",
       "    }\n",
       "\n",
       "    .dataframe tbody tr th {\n",
       "        vertical-align: top;\n",
       "    }\n",
       "\n",
       "    .dataframe thead th {\n",
       "        text-align: right;\n",
       "    }\n",
       "</style>\n",
       "<table border=\"1\" class=\"dataframe\">\n",
       "  <thead>\n",
       "    <tr style=\"text-align: right;\">\n",
       "      <th></th>\n",
       "      <th>isbn13</th>\n",
       "      <th>title</th>\n",
       "      <th>authors</th>\n",
       "      <th>categories</th>\n",
       "      <th>description</th>\n",
       "      <th>average_rating</th>\n",
       "      <th>total</th>\n",
       "    </tr>\n",
       "  </thead>\n",
       "  <tbody>\n",
       "    <tr>\n",
       "      <th>0</th>\n",
       "      <td>9780002005883</td>\n",
       "      <td>Gilead</td>\n",
       "      <td>[MarilynneRobinson]</td>\n",
       "      <td>[Fiction]</td>\n",
       "      <td>[A, NOVEL, THAT, READERS, and, critics, have, ...</td>\n",
       "      <td>[3.85]</td>\n",
       "      <td>[MarilynneRobinson, Fiction, A, NOVEL, THAT, R...</td>\n",
       "    </tr>\n",
       "    <tr>\n",
       "      <th>1</th>\n",
       "      <td>9780002261982</td>\n",
       "      <td>Spider's Web</td>\n",
       "      <td>[CharlesOsborne;AgathaChristie]</td>\n",
       "      <td>[Detective, and, mystery, stories]</td>\n",
       "      <td>[A, new, 'Christie, for, Christmas', --, a, fu...</td>\n",
       "      <td>[3.83]</td>\n",
       "      <td>[CharlesOsborne;AgathaChristie, Detective, and...</td>\n",
       "    </tr>\n",
       "    <tr>\n",
       "      <th>2</th>\n",
       "      <td>9780006163831</td>\n",
       "      <td>The One Tree</td>\n",
       "      <td>[StephenR.Donaldson]</td>\n",
       "      <td>[American, fiction]</td>\n",
       "      <td>[Volume, Two, of, Stephen, Donaldson's, acclai...</td>\n",
       "      <td>[3.97]</td>\n",
       "      <td>[StephenR.Donaldson, American, fiction, Volume...</td>\n",
       "    </tr>\n",
       "    <tr>\n",
       "      <th>3</th>\n",
       "      <td>9780006178736</td>\n",
       "      <td>Rage of angels</td>\n",
       "      <td>[SidneySheldon]</td>\n",
       "      <td>[Fiction]</td>\n",
       "      <td>[A, memorable,, mesmerizing, heroine, Jennifer...</td>\n",
       "      <td>[3.93]</td>\n",
       "      <td>[SidneySheldon, Fiction, A, memorable,, mesmer...</td>\n",
       "    </tr>\n",
       "    <tr>\n",
       "      <th>4</th>\n",
       "      <td>9780006280897</td>\n",
       "      <td>The Four Loves</td>\n",
       "      <td>[CliveStaplesLewis]</td>\n",
       "      <td>[Christian, life]</td>\n",
       "      <td>[Lewis', work, on, the, nature, of, love, divi...</td>\n",
       "      <td>[4.15]</td>\n",
       "      <td>[CliveStaplesLewis, Christian, life, Lewis', w...</td>\n",
       "    </tr>\n",
       "  </tbody>\n",
       "</table>\n",
       "</div>"
      ],
      "text/plain": [
       "          isbn13           title                          authors  \\\n",
       "0  9780002005883          Gilead              [MarilynneRobinson]   \n",
       "1  9780002261982    Spider's Web  [CharlesOsborne;AgathaChristie]   \n",
       "2  9780006163831    The One Tree             [StephenR.Donaldson]   \n",
       "3  9780006178736  Rage of angels                  [SidneySheldon]   \n",
       "4  9780006280897  The Four Loves              [CliveStaplesLewis]   \n",
       "\n",
       "                           categories  \\\n",
       "0                           [Fiction]   \n",
       "1  [Detective, and, mystery, stories]   \n",
       "2                 [American, fiction]   \n",
       "3                           [Fiction]   \n",
       "4                   [Christian, life]   \n",
       "\n",
       "                                         description average_rating  \\\n",
       "0  [A, NOVEL, THAT, READERS, and, critics, have, ...         [3.85]   \n",
       "1  [A, new, 'Christie, for, Christmas', --, a, fu...         [3.83]   \n",
       "2  [Volume, Two, of, Stephen, Donaldson's, acclai...         [3.97]   \n",
       "3  [A, memorable,, mesmerizing, heroine, Jennifer...         [3.93]   \n",
       "4  [Lewis', work, on, the, nature, of, love, divi...         [4.15]   \n",
       "\n",
       "                                               total  \n",
       "0  [MarilynneRobinson, Fiction, A, NOVEL, THAT, R...  \n",
       "1  [CharlesOsborne;AgathaChristie, Detective, and...  \n",
       "2  [StephenR.Donaldson, American, fiction, Volume...  \n",
       "3  [SidneySheldon, Fiction, A, memorable,, mesmer...  \n",
       "4  [CliveStaplesLewis, Christian, life, Lewis', w...  "
      ]
     },
     "execution_count": 25,
     "metadata": {},
     "output_type": "execute_result"
    }
   ],
   "source": [
    "book.head()"
   ]
  },
  {
   "cell_type": "code",
   "execution_count": 26,
   "id": "naval-traffic",
   "metadata": {
    "execution": {
     "iopub.execute_input": "2021-07-09T06:26:19.389728Z",
     "iopub.status.busy": "2021-07-09T06:26:19.388756Z",
     "iopub.status.idle": "2021-07-09T06:26:19.392925Z",
     "shell.execute_reply": "2021-07-09T06:26:19.392144Z",
     "shell.execute_reply.started": "2021-07-07T18:55:19.162286Z"
    },
    "papermill": {
     "duration": 0.046442,
     "end_time": "2021-07-09T06:26:19.393108",
     "exception": false,
     "start_time": "2021-07-09T06:26:19.346666",
     "status": "completed"
    },
    "tags": []
   },
   "outputs": [
    {
     "data": {
      "text/plain": [
       "(5237, 7)"
      ]
     },
     "execution_count": 26,
     "metadata": {},
     "output_type": "execute_result"
    }
   ],
   "source": [
    "book.shape"
   ]
  },
  {
   "cell_type": "code",
   "execution_count": 27,
   "id": "three-minority",
   "metadata": {
    "execution": {
     "iopub.execute_input": "2021-07-09T06:26:19.493762Z",
     "iopub.status.busy": "2021-07-09T06:26:19.492740Z",
     "iopub.status.idle": "2021-07-09T06:26:19.496521Z",
     "shell.execute_reply": "2021-07-09T06:26:19.497067Z",
     "shell.execute_reply.started": "2021-07-07T18:55:22.202016Z"
    },
    "papermill": {
     "duration": 0.059196,
     "end_time": "2021-07-09T06:26:19.497237",
     "exception": false,
     "start_time": "2021-07-09T06:26:19.438041",
     "status": "completed"
    },
    "tags": []
   },
   "outputs": [
    {
     "data": {
      "text/html": [
       "<div>\n",
       "<style scoped>\n",
       "    .dataframe tbody tr th:only-of-type {\n",
       "        vertical-align: middle;\n",
       "    }\n",
       "\n",
       "    .dataframe tbody tr th {\n",
       "        vertical-align: top;\n",
       "    }\n",
       "\n",
       "    .dataframe thead th {\n",
       "        text-align: right;\n",
       "    }\n",
       "</style>\n",
       "<table border=\"1\" class=\"dataframe\">\n",
       "  <thead>\n",
       "    <tr style=\"text-align: right;\">\n",
       "      <th></th>\n",
       "      <th>isbn13</th>\n",
       "      <th>title</th>\n",
       "      <th>total</th>\n",
       "    </tr>\n",
       "  </thead>\n",
       "  <tbody>\n",
       "    <tr>\n",
       "      <th>0</th>\n",
       "      <td>9780002005883</td>\n",
       "      <td>Gilead</td>\n",
       "      <td>[MarilynneRobinson, Fiction, A, NOVEL, THAT, R...</td>\n",
       "    </tr>\n",
       "    <tr>\n",
       "      <th>1</th>\n",
       "      <td>9780002261982</td>\n",
       "      <td>Spider's Web</td>\n",
       "      <td>[CharlesOsborne;AgathaChristie, Detective, and...</td>\n",
       "    </tr>\n",
       "    <tr>\n",
       "      <th>2</th>\n",
       "      <td>9780006163831</td>\n",
       "      <td>The One Tree</td>\n",
       "      <td>[StephenR.Donaldson, American, fiction, Volume...</td>\n",
       "    </tr>\n",
       "    <tr>\n",
       "      <th>3</th>\n",
       "      <td>9780006178736</td>\n",
       "      <td>Rage of angels</td>\n",
       "      <td>[SidneySheldon, Fiction, A, memorable,, mesmer...</td>\n",
       "    </tr>\n",
       "    <tr>\n",
       "      <th>4</th>\n",
       "      <td>9780006280897</td>\n",
       "      <td>The Four Loves</td>\n",
       "      <td>[CliveStaplesLewis, Christian, life, Lewis', w...</td>\n",
       "    </tr>\n",
       "  </tbody>\n",
       "</table>\n",
       "</div>"
      ],
      "text/plain": [
       "          isbn13           title  \\\n",
       "0  9780002005883          Gilead   \n",
       "1  9780002261982    Spider's Web   \n",
       "2  9780006163831    The One Tree   \n",
       "3  9780006178736  Rage of angels   \n",
       "4  9780006280897  The Four Loves   \n",
       "\n",
       "                                               total  \n",
       "0  [MarilynneRobinson, Fiction, A, NOVEL, THAT, R...  \n",
       "1  [CharlesOsborne;AgathaChristie, Detective, and...  \n",
       "2  [StephenR.Donaldson, American, fiction, Volume...  \n",
       "3  [SidneySheldon, Fiction, A, memorable,, mesmer...  \n",
       "4  [CliveStaplesLewis, Christian, life, Lewis', w...  "
      ]
     },
     "execution_count": 27,
     "metadata": {},
     "output_type": "execute_result"
    }
   ],
   "source": [
    "# to delete all cols 'authors','categories','description','average_rating'\n",
    "new_book= book.drop(columns=['authors','categories','description','average_rating'])\n",
    "new_book.head()"
   ]
  },
  {
   "cell_type": "code",
   "execution_count": 28,
   "id": "banned-running",
   "metadata": {
    "execution": {
     "iopub.execute_input": "2021-07-09T06:26:19.576205Z",
     "iopub.status.busy": "2021-07-09T06:26:19.575268Z",
     "iopub.status.idle": "2021-07-09T06:26:19.580418Z",
     "shell.execute_reply": "2021-07-09T06:26:19.581018Z",
     "shell.execute_reply.started": "2021-07-07T18:55:24.891621Z"
    },
    "papermill": {
     "duration": 0.045379,
     "end_time": "2021-07-09T06:26:19.581201",
     "exception": false,
     "start_time": "2021-07-09T06:26:19.535822",
     "status": "completed"
    },
    "tags": []
   },
   "outputs": [
    {
     "data": {
      "text/plain": [
       "(5237, 3)"
      ]
     },
     "execution_count": 28,
     "metadata": {},
     "output_type": "execute_result"
    }
   ],
   "source": [
    "new_book.shape"
   ]
  },
  {
   "cell_type": "code",
   "execution_count": 29,
   "id": "systematic-nylon",
   "metadata": {
    "execution": {
     "iopub.execute_input": "2021-07-09T06:26:19.660609Z",
     "iopub.status.busy": "2021-07-09T06:26:19.659749Z",
     "iopub.status.idle": "2021-07-09T06:26:19.666128Z",
     "shell.execute_reply": "2021-07-09T06:26:19.666612Z",
     "shell.execute_reply.started": "2021-07-07T18:55:27.451645Z"
    },
    "papermill": {
     "duration": 0.046937,
     "end_time": "2021-07-09T06:26:19.666819",
     "exception": false,
     "start_time": "2021-07-09T06:26:19.619882",
     "status": "completed"
    },
    "tags": []
   },
   "outputs": [
    {
     "data": {
      "text/plain": [
       "295"
      ]
     },
     "execution_count": 29,
     "metadata": {},
     "output_type": "execute_result"
    }
   ],
   "source": [
    "new_book['title'].duplicated().sum()"
   ]
  },
  {
   "cell_type": "code",
   "execution_count": 30,
   "id": "charitable-evolution",
   "metadata": {
    "execution": {
     "iopub.execute_input": "2021-07-09T06:26:19.747119Z",
     "iopub.status.busy": "2021-07-09T06:26:19.746186Z",
     "iopub.status.idle": "2021-07-09T06:26:19.749763Z",
     "shell.execute_reply": "2021-07-09T06:26:19.750245Z",
     "shell.execute_reply.started": "2021-07-07T17:26:13.419689Z"
    },
    "papermill": {
     "duration": 0.043871,
     "end_time": "2021-07-09T06:26:19.750406",
     "exception": false,
     "start_time": "2021-07-09T06:26:19.706535",
     "status": "completed"
    },
    "tags": []
   },
   "outputs": [],
   "source": [
    "#new_book=new_book.drop_duplicates(subset=['title'])"
   ]
  },
  {
   "cell_type": "code",
   "execution_count": 31,
   "id": "answering-nudist",
   "metadata": {
    "execution": {
     "iopub.execute_input": "2021-07-09T06:26:19.831101Z",
     "iopub.status.busy": "2021-07-09T06:26:19.830205Z",
     "iopub.status.idle": "2021-07-09T06:26:19.833720Z",
     "shell.execute_reply": "2021-07-09T06:26:19.834199Z",
     "shell.execute_reply.started": "2021-07-07T17:38:58.924592Z"
    },
    "papermill": {
     "duration": 0.045069,
     "end_time": "2021-07-09T06:26:19.834359",
     "exception": false,
     "start_time": "2021-07-09T06:26:19.789290",
     "status": "completed"
    },
    "tags": []
   },
   "outputs": [],
   "source": [
    "#new_book['title'].duplicated().sum()"
   ]
  },
  {
   "cell_type": "code",
   "execution_count": 32,
   "id": "brave-opening",
   "metadata": {
    "execution": {
     "iopub.execute_input": "2021-07-09T06:26:19.913994Z",
     "iopub.status.busy": "2021-07-09T06:26:19.912834Z",
     "iopub.status.idle": "2021-07-09T06:26:19.917081Z",
     "shell.execute_reply": "2021-07-09T06:26:19.917575Z",
     "shell.execute_reply.started": "2021-07-07T17:39:07.88497Z"
    },
    "papermill": {
     "duration": 0.045709,
     "end_time": "2021-07-09T06:26:19.917774",
     "exception": false,
     "start_time": "2021-07-09T06:26:19.872065",
     "status": "completed"
    },
    "tags": []
   },
   "outputs": [],
   "source": [
    "#new_book.shape"
   ]
  },
  {
   "cell_type": "code",
   "execution_count": 33,
   "id": "ideal-james",
   "metadata": {
    "execution": {
     "iopub.execute_input": "2021-07-09T06:26:19.998640Z",
     "iopub.status.busy": "2021-07-09T06:26:19.997709Z",
     "iopub.status.idle": "2021-07-09T06:26:20.020384Z",
     "shell.execute_reply": "2021-07-09T06:26:20.020895Z",
     "shell.execute_reply.started": "2021-07-07T18:55:34.412395Z"
    },
    "papermill": {
     "duration": 0.064576,
     "end_time": "2021-07-09T06:26:20.021085",
     "exception": false,
     "start_time": "2021-07-09T06:26:19.956509",
     "status": "completed"
    },
    "tags": []
   },
   "outputs": [
    {
     "data": {
      "text/html": [
       "<div>\n",
       "<style scoped>\n",
       "    .dataframe tbody tr th:only-of-type {\n",
       "        vertical-align: middle;\n",
       "    }\n",
       "\n",
       "    .dataframe tbody tr th {\n",
       "        vertical-align: top;\n",
       "    }\n",
       "\n",
       "    .dataframe thead th {\n",
       "        text-align: right;\n",
       "    }\n",
       "</style>\n",
       "<table border=\"1\" class=\"dataframe\">\n",
       "  <thead>\n",
       "    <tr style=\"text-align: right;\">\n",
       "      <th></th>\n",
       "      <th>isbn13</th>\n",
       "      <th>title</th>\n",
       "      <th>total</th>\n",
       "    </tr>\n",
       "  </thead>\n",
       "  <tbody>\n",
       "    <tr>\n",
       "      <th>0</th>\n",
       "      <td>9780002005883</td>\n",
       "      <td>Gilead</td>\n",
       "      <td>MarilynneRobinson Fiction A NOVEL THAT READERS...</td>\n",
       "    </tr>\n",
       "    <tr>\n",
       "      <th>1</th>\n",
       "      <td>9780002261982</td>\n",
       "      <td>Spider's Web</td>\n",
       "      <td>CharlesOsborne;AgathaChristie Detective and my...</td>\n",
       "    </tr>\n",
       "    <tr>\n",
       "      <th>2</th>\n",
       "      <td>9780006163831</td>\n",
       "      <td>The One Tree</td>\n",
       "      <td>StephenR.Donaldson American fiction Volume Two...</td>\n",
       "    </tr>\n",
       "    <tr>\n",
       "      <th>3</th>\n",
       "      <td>9780006178736</td>\n",
       "      <td>Rage of angels</td>\n",
       "      <td>SidneySheldon Fiction A memorable, mesmerizing...</td>\n",
       "    </tr>\n",
       "    <tr>\n",
       "      <th>4</th>\n",
       "      <td>9780006280897</td>\n",
       "      <td>The Four Loves</td>\n",
       "      <td>CliveStaplesLewis Christian life Lewis' work o...</td>\n",
       "    </tr>\n",
       "  </tbody>\n",
       "</table>\n",
       "</div>"
      ],
      "text/plain": [
       "          isbn13           title  \\\n",
       "0  9780002005883          Gilead   \n",
       "1  9780002261982    Spider's Web   \n",
       "2  9780006163831    The One Tree   \n",
       "3  9780006178736  Rage of angels   \n",
       "4  9780006280897  The Four Loves   \n",
       "\n",
       "                                               total  \n",
       "0  MarilynneRobinson Fiction A NOVEL THAT READERS...  \n",
       "1  CharlesOsborne;AgathaChristie Detective and my...  \n",
       "2  StephenR.Donaldson American fiction Volume Two...  \n",
       "3  SidneySheldon Fiction A memorable, mesmerizing...  \n",
       "4  CliveStaplesLewis Christian life Lewis' work o...  "
      ]
     },
     "execution_count": 33,
     "metadata": {},
     "output_type": "execute_result"
    }
   ],
   "source": [
    "# to convert the list into strings\n",
    "new_book['total']=new_book['total'].apply(lambda x: \" \".join(x))\n",
    "# final dataset\n",
    "new_book.head()"
   ]
  },
  {
   "cell_type": "code",
   "execution_count": 34,
   "id": "daily-northwest",
   "metadata": {
    "execution": {
     "iopub.execute_input": "2021-07-09T06:26:20.100202Z",
     "iopub.status.busy": "2021-07-09T06:26:20.098976Z",
     "iopub.status.idle": "2021-07-09T06:26:20.106145Z",
     "shell.execute_reply": "2021-07-09T06:26:20.105547Z",
     "shell.execute_reply.started": "2021-07-07T18:55:37.192281Z"
    },
    "papermill": {
     "duration": 0.047341,
     "end_time": "2021-07-09T06:26:20.106288",
     "exception": false,
     "start_time": "2021-07-09T06:26:20.058947",
     "status": "completed"
    },
    "tags": []
   },
   "outputs": [
    {
     "data": {
      "text/plain": [
       "'CharlesBukowski Fiction Tells the story of an ugly middle-aged man who has gone unloved for too long, but a change comes over him at the age of fifty as he begins more and more relationships with women, in a compelling study of life lived on the edge. Reprint. 15,000 first printing. 3.87'"
      ]
     },
     "execution_count": 34,
     "metadata": {},
     "output_type": "execute_result"
    }
   ],
   "source": [
    "new_book['total'][356]"
   ]
  },
  {
   "cell_type": "code",
   "execution_count": 35,
   "id": "frank-destination",
   "metadata": {
    "execution": {
     "iopub.execute_input": "2021-07-09T06:26:20.199082Z",
     "iopub.status.busy": "2021-07-09T06:26:20.197979Z",
     "iopub.status.idle": "2021-07-09T06:26:20.206181Z",
     "shell.execute_reply": "2021-07-09T06:26:20.206637Z",
     "shell.execute_reply.started": "2021-07-07T18:55:39.930963Z"
    },
    "papermill": {
     "duration": 0.058288,
     "end_time": "2021-07-09T06:26:20.206818",
     "exception": false,
     "start_time": "2021-07-09T06:26:20.148530",
     "status": "completed"
    },
    "tags": []
   },
   "outputs": [
    {
     "data": {
      "text/plain": [
       "2307049"
      ]
     },
     "execution_count": 35,
     "metadata": {},
     "output_type": "execute_result"
    }
   ],
   "source": [
    "# to concatenate all the string values into a single string 'total'\n",
    "x=new_book['total'].values.tolist()\n",
    "y=''\n",
    "for i in x:\n",
    "    y=y+i\n",
    "    \n",
    "len(y)"
   ]
  },
  {
   "cell_type": "code",
   "execution_count": 36,
   "id": "sound-notice",
   "metadata": {
    "execution": {
     "iopub.execute_input": "2021-07-09T06:26:20.292052Z",
     "iopub.status.busy": "2021-07-09T06:26:20.290538Z",
     "iopub.status.idle": "2021-07-09T06:26:20.381234Z",
     "shell.execute_reply": "2021-07-09T06:26:20.381662Z",
     "shell.execute_reply.started": "2021-07-07T18:55:42.511709Z"
    },
    "papermill": {
     "duration": 0.133945,
     "end_time": "2021-07-09T06:26:20.381840",
     "exception": false,
     "start_time": "2021-07-09T06:26:20.247895",
     "status": "completed"
    },
    "tags": []
   },
   "outputs": [
    {
     "data": {
      "text/plain": [
       "56952"
      ]
     },
     "execution_count": 36,
     "metadata": {},
     "output_type": "execute_result"
    }
   ],
   "source": [
    "# find the unique words in string 'total'\n",
    "len(set(y.split()))"
   ]
  },
  {
   "cell_type": "code",
   "execution_count": 37,
   "id": "electric-causing",
   "metadata": {
    "execution": {
     "iopub.execute_input": "2021-07-09T06:26:20.463495Z",
     "iopub.status.busy": "2021-07-09T06:26:20.462560Z",
     "iopub.status.idle": "2021-07-09T06:26:21.599041Z",
     "shell.execute_reply": "2021-07-09T06:26:21.598393Z",
     "shell.execute_reply.started": "2021-07-07T18:56:03.081987Z"
    },
    "papermill": {
     "duration": 1.17736,
     "end_time": "2021-07-09T06:26:21.599192",
     "exception": false,
     "start_time": "2021-07-09T06:26:20.421832",
     "status": "completed"
    },
    "tags": []
   },
   "outputs": [],
   "source": [
    "# to consider top 20k most frequently occured words from y string\n",
    "# Convert a collection of text documents(strings) to a matrix of token counts(vectors)\n",
    "from sklearn.feature_extraction.text import CountVectorizer\n",
    "cv= CountVectorizer(max_features=20000,stop_words='english')"
   ]
  },
  {
   "cell_type": "code",
   "execution_count": 38,
   "id": "concrete-learning",
   "metadata": {
    "execution": {
     "iopub.execute_input": "2021-07-09T06:26:21.721273Z",
     "iopub.status.busy": "2021-07-09T06:26:21.715437Z",
     "iopub.status.idle": "2021-07-09T06:26:22.355809Z",
     "shell.execute_reply": "2021-07-09T06:26:22.355194Z",
     "shell.execute_reply.started": "2021-07-07T18:56:06.491567Z"
    },
    "papermill": {
     "duration": 0.718556,
     "end_time": "2021-07-09T06:26:22.355953",
     "exception": false,
     "start_time": "2021-07-09T06:26:21.637397",
     "status": "completed"
    },
    "tags": []
   },
   "outputs": [],
   "source": [
    "# converting into sparse array\n",
    "vector = cv.fit_transform(new_book['total']).toarray()"
   ]
  },
  {
   "cell_type": "code",
   "execution_count": 39,
   "id": "amazing-pearl",
   "metadata": {
    "execution": {
     "iopub.execute_input": "2021-07-09T06:26:22.442483Z",
     "iopub.status.busy": "2021-07-09T06:26:22.441890Z",
     "iopub.status.idle": "2021-07-09T06:26:22.444863Z",
     "shell.execute_reply": "2021-07-09T06:26:22.445299Z",
     "shell.execute_reply.started": "2021-07-07T18:56:10.551161Z"
    },
    "papermill": {
     "duration": 0.049471,
     "end_time": "2021-07-09T06:26:22.445457",
     "exception": false,
     "start_time": "2021-07-09T06:26:22.395986",
     "status": "completed"
    },
    "tags": []
   },
   "outputs": [
    {
     "data": {
      "text/plain": [
       "(5237, 20000)"
      ]
     },
     "execution_count": 39,
     "metadata": {},
     "output_type": "execute_result"
    }
   ],
   "source": [
    "# this vector is a sparse matrix where max values are 0\n",
    "vector.shape"
   ]
  },
  {
   "cell_type": "code",
   "execution_count": 40,
   "id": "worst-right",
   "metadata": {
    "execution": {
     "iopub.execute_input": "2021-07-09T06:26:22.527307Z",
     "iopub.status.busy": "2021-07-09T06:26:22.526721Z",
     "iopub.status.idle": "2021-07-09T06:26:31.571562Z",
     "shell.execute_reply": "2021-07-09T06:26:31.572028Z",
     "shell.execute_reply.started": "2021-07-07T18:56:13.731539Z"
    },
    "papermill": {
     "duration": 9.087028,
     "end_time": "2021-07-09T06:26:31.572208",
     "exception": false,
     "start_time": "2021-07-09T06:26:22.485180",
     "status": "completed"
    },
    "tags": []
   },
   "outputs": [],
   "source": [
    "# to calculate cosine distance with each vector to each vector\n",
    "from sklearn.metrics.pairwise import cosine_similarity\n",
    "similarity=cosine_similarity(vector)"
   ]
  },
  {
   "cell_type": "code",
   "execution_count": 41,
   "id": "still-indicator",
   "metadata": {
    "execution": {
     "iopub.execute_input": "2021-07-09T06:26:31.658482Z",
     "iopub.status.busy": "2021-07-09T06:26:31.657869Z",
     "iopub.status.idle": "2021-07-09T06:26:31.662369Z",
     "shell.execute_reply": "2021-07-09T06:26:31.662841Z",
     "shell.execute_reply.started": "2021-07-07T18:56:26.726678Z"
    },
    "papermill": {
     "duration": 0.048992,
     "end_time": "2021-07-09T06:26:31.663036",
     "exception": false,
     "start_time": "2021-07-09T06:26:31.614044",
     "status": "completed"
    },
    "tags": []
   },
   "outputs": [
    {
     "data": {
      "text/plain": [
       "(5237, 5237)"
      ]
     },
     "execution_count": 41,
     "metadata": {},
     "output_type": "execute_result"
    }
   ],
   "source": [
    "similarity.shape"
   ]
  },
  {
   "cell_type": "code",
   "execution_count": 42,
   "id": "streaming-pencil",
   "metadata": {
    "execution": {
     "iopub.execute_input": "2021-07-09T06:26:31.749141Z",
     "iopub.status.busy": "2021-07-09T06:26:31.748507Z",
     "iopub.status.idle": "2021-07-09T06:26:31.752385Z",
     "shell.execute_reply": "2021-07-09T06:26:31.752860Z",
     "shell.execute_reply.started": "2021-07-07T18:56:30.251631Z"
    },
    "papermill": {
     "duration": 0.049474,
     "end_time": "2021-07-09T06:26:31.753035",
     "exception": false,
     "start_time": "2021-07-09T06:26:31.703561",
     "status": "completed"
    },
    "tags": []
   },
   "outputs": [
    {
     "data": {
      "text/plain": [
       "array([1.        , 0.00653832, 0.01797213, ..., 0.10116808, 0.03179815,\n",
       "       0.        ])"
      ]
     },
     "execution_count": 42,
     "metadata": {},
     "output_type": "execute_result"
    }
   ],
   "source": [
    "# similarity of 1st book with all other books including itself\n",
    "similarity[0]"
   ]
  },
  {
   "cell_type": "code",
   "execution_count": 43,
   "id": "binding-reader",
   "metadata": {
    "execution": {
     "iopub.execute_input": "2021-07-09T06:26:31.836001Z",
     "iopub.status.busy": "2021-07-09T06:26:31.835381Z",
     "iopub.status.idle": "2021-07-09T06:26:31.841409Z",
     "shell.execute_reply": "2021-07-09T06:26:31.841899Z",
     "shell.execute_reply.started": "2021-07-07T19:07:32.532788Z"
    },
    "papermill": {
     "duration": 0.048538,
     "end_time": "2021-07-09T06:26:31.842068",
     "exception": false,
     "start_time": "2021-07-09T06:26:31.793530",
     "status": "completed"
    },
    "tags": []
   },
   "outputs": [
    {
     "data": {
      "text/plain": [
       "4"
      ]
     },
     "execution_count": 43,
     "metadata": {},
     "output_type": "execute_result"
    }
   ],
   "source": [
    "# calculate index of desired book\n",
    "new_book[new_book['title']=='The Four Loves'].index[0]"
   ]
  },
  {
   "cell_type": "code",
   "execution_count": 44,
   "id": "collectible-awareness",
   "metadata": {
    "execution": {
     "iopub.execute_input": "2021-07-09T06:26:31.930762Z",
     "iopub.status.busy": "2021-07-09T06:26:31.930115Z",
     "iopub.status.idle": "2021-07-09T06:26:31.938671Z",
     "shell.execute_reply": "2021-07-09T06:26:31.939184Z",
     "shell.execute_reply.started": "2021-07-07T19:07:38.257133Z"
    },
    "papermill": {
     "duration": 0.054813,
     "end_time": "2021-07-09T06:26:31.939380",
     "exception": false,
     "start_time": "2021-07-09T06:26:31.884567",
     "status": "completed"
    },
    "tags": []
   },
   "outputs": [
    {
     "data": {
      "text/html": [
       "<div>\n",
       "<style scoped>\n",
       "    .dataframe tbody tr th:only-of-type {\n",
       "        vertical-align: middle;\n",
       "    }\n",
       "\n",
       "    .dataframe tbody tr th {\n",
       "        vertical-align: top;\n",
       "    }\n",
       "\n",
       "    .dataframe thead th {\n",
       "        text-align: right;\n",
       "    }\n",
       "</style>\n",
       "<table border=\"1\" class=\"dataframe\">\n",
       "  <thead>\n",
       "    <tr style=\"text-align: right;\">\n",
       "      <th></th>\n",
       "      <th>isbn13</th>\n",
       "      <th>title</th>\n",
       "      <th>total</th>\n",
       "    </tr>\n",
       "  </thead>\n",
       "  <tbody>\n",
       "    <tr>\n",
       "      <th>4287</th>\n",
       "      <td>9780880014403</td>\n",
       "      <td>The Assignation</td>\n",
       "      <td>JoyceCarolOates Fiction A woman's lover seems ...</td>\n",
       "    </tr>\n",
       "  </tbody>\n",
       "</table>\n",
       "</div>"
      ],
      "text/plain": [
       "             isbn13            title  \\\n",
       "4287  9780880014403  The Assignation   \n",
       "\n",
       "                                                  total  \n",
       "4287  JoyceCarolOates Fiction A woman's lover seems ...  "
      ]
     },
     "execution_count": 44,
     "metadata": {},
     "output_type": "execute_result"
    }
   ],
   "source": [
    "new_book.sample()"
   ]
  },
  {
   "cell_type": "code",
   "execution_count": 45,
   "id": "correct-washer",
   "metadata": {
    "execution": {
     "iopub.execute_input": "2021-07-09T06:26:32.022237Z",
     "iopub.status.busy": "2021-07-09T06:26:32.021554Z",
     "iopub.status.idle": "2021-07-09T06:26:32.026369Z",
     "shell.execute_reply": "2021-07-09T06:26:32.026899Z",
     "shell.execute_reply.started": "2021-07-07T18:57:13.441983Z"
    },
    "papermill": {
     "duration": 0.047963,
     "end_time": "2021-07-09T06:26:32.027086",
     "exception": false,
     "start_time": "2021-07-09T06:26:31.979123",
     "status": "completed"
    },
    "tags": []
   },
   "outputs": [],
   "source": [
    "# main function 'recommend' which uses the title & its corresponding index as input(for calculation) \n",
    "# & gives the 5 most similar books as output\n",
    "def recommend(book):\n",
    "    index=new_book[new_book['title']==book].index[0]\n",
    "    distances=sorted(list(enumerate(similarity[index])),reverse=True,key = lambda x: x[1])\n",
    "    for i in distances[1:6]:\n",
    "        print(new_book.iloc[i[0]].title)"
   ]
  },
  {
   "cell_type": "code",
   "execution_count": 46,
   "id": "organic-concentrate",
   "metadata": {
    "execution": {
     "iopub.execute_input": "2021-07-09T06:26:32.112496Z",
     "iopub.status.busy": "2021-07-09T06:26:32.111864Z",
     "iopub.status.idle": "2021-07-09T06:26:32.123117Z",
     "shell.execute_reply": "2021-07-09T06:26:32.123704Z",
     "shell.execute_reply.started": "2021-07-07T18:59:52.551761Z"
    },
    "papermill": {
     "duration": 0.056445,
     "end_time": "2021-07-09T06:26:32.123877",
     "exception": false,
     "start_time": "2021-07-09T06:26:32.067432",
     "status": "completed"
    },
    "tags": []
   },
   "outputs": [
    {
     "name": "stdout",
     "output_type": "stream",
     "text": [
      "The Art of Loving\n",
      "Getting the Love You Want\n",
      "The Art of Love, and Other Poems\n",
      "The Beloved\n",
      "Learning to Love\n"
     ]
    }
   ],
   "source": [
    "recommend('The Four Loves')"
   ]
  },
  {
   "cell_type": "code",
   "execution_count": 47,
   "id": "serial-inclusion",
   "metadata": {
    "execution": {
     "iopub.execute_input": "2021-07-09T06:26:32.207584Z",
     "iopub.status.busy": "2021-07-09T06:26:32.206983Z",
     "iopub.status.idle": "2021-07-09T06:26:32.219266Z",
     "shell.execute_reply": "2021-07-09T06:26:32.218780Z",
     "shell.execute_reply.started": "2021-07-07T18:59:48.571159Z"
    },
    "papermill": {
     "duration": 0.054534,
     "end_time": "2021-07-09T06:26:32.219399",
     "exception": false,
     "start_time": "2021-07-09T06:26:32.164865",
     "status": "completed"
    },
    "tags": []
   },
   "outputs": [
    {
     "name": "stdout",
     "output_type": "stream",
     "text": [
      "Bound for Oregon\n",
      "Heaven to Betsy\n",
      "The Realm of Possibility\n",
      "The World of Peter Rabbit\n",
      "Stargirl\n"
     ]
    }
   ],
   "source": [
    "recommend('The Princess Diaries')"
   ]
  },
  {
   "cell_type": "code",
   "execution_count": 48,
   "id": "representative-cleveland",
   "metadata": {
    "execution": {
     "iopub.execute_input": "2021-07-09T06:26:32.312446Z",
     "iopub.status.busy": "2021-07-09T06:26:32.311605Z",
     "iopub.status.idle": "2021-07-09T06:26:32.315917Z",
     "shell.execute_reply": "2021-07-09T06:26:32.315351Z",
     "shell.execute_reply.started": "2021-07-07T18:59:45.591306Z"
    },
    "papermill": {
     "duration": 0.056213,
     "end_time": "2021-07-09T06:26:32.316079",
     "exception": false,
     "start_time": "2021-07-09T06:26:32.259866",
     "status": "completed"
    },
    "tags": []
   },
   "outputs": [
    {
     "name": "stdout",
     "output_type": "stream",
     "text": [
      "Five Get Into a Fix\n",
      "Pippi Goes on Board\n",
      "Hercule Poirot's Casebook\n",
      "If Tomorrow Comes\n",
      "Murder in LaMut\n"
     ]
    }
   ],
   "source": [
    "recommend('Partners in Crime')"
   ]
  },
  {
   "cell_type": "code",
   "execution_count": 49,
   "id": "phantom-arthritis",
   "metadata": {
    "execution": {
     "iopub.execute_input": "2021-07-09T06:26:32.409276Z",
     "iopub.status.busy": "2021-07-09T06:26:32.408423Z",
     "iopub.status.idle": "2021-07-09T06:26:32.413018Z",
     "shell.execute_reply": "2021-07-09T06:26:32.412481Z",
     "shell.execute_reply.started": "2021-07-07T18:59:41.492598Z"
    },
    "papermill": {
     "duration": 0.056888,
     "end_time": "2021-07-09T06:26:32.413199",
     "exception": false,
     "start_time": "2021-07-09T06:26:32.356311",
     "status": "completed"
    },
    "tags": []
   },
   "outputs": [
    {
     "name": "stdout",
     "output_type": "stream",
     "text": [
      "The Lord of the Rings Complete Visual Companion\n",
      "The Lord of the Rings\n",
      "The Art of The Lord of the Rings\n",
      "The Illustrated a Brief History of Time\n",
      "J.R.R. Tolkien\n"
     ]
    }
   ],
   "source": [
    "recommend('The Lord of the Rings Sketchbook')"
   ]
  },
  {
   "cell_type": "code",
   "execution_count": 50,
   "id": "blank-platform",
   "metadata": {
    "execution": {
     "iopub.execute_input": "2021-07-09T06:26:32.508243Z",
     "iopub.status.busy": "2021-07-09T06:26:32.507427Z",
     "iopub.status.idle": "2021-07-09T06:26:32.512357Z",
     "shell.execute_reply": "2021-07-09T06:26:32.511430Z",
     "shell.execute_reply.started": "2021-07-07T18:57:54.112511Z"
    },
    "papermill": {
     "duration": 0.057716,
     "end_time": "2021-07-09T06:26:32.512573",
     "exception": false,
     "start_time": "2021-07-09T06:26:32.454857",
     "status": "completed"
    },
    "tags": []
   },
   "outputs": [
    {
     "name": "stdout",
     "output_type": "stream",
     "text": [
      "The Harry Potter Collection\n",
      "Harry Potter and the Chamber of Secrets\n",
      "Harry Potter and the Prisoner of Azkaban (Book 3)\n",
      "Bound for Oregon\n",
      "Harry Potter and the Order of the Phoenix (Book 5)\n"
     ]
    }
   ],
   "source": [
    "recommend('Harry Potter')"
   ]
  },
  {
   "cell_type": "code",
   "execution_count": 51,
   "id": "spread-peoples",
   "metadata": {
    "execution": {
     "iopub.execute_input": "2021-07-09T06:26:32.601147Z",
     "iopub.status.busy": "2021-07-09T06:26:32.600428Z",
     "iopub.status.idle": "2021-07-09T06:26:32.603781Z",
     "shell.execute_reply": "2021-07-09T06:26:32.602994Z",
     "shell.execute_reply.started": "2021-07-07T19:09:13.292787Z"
    },
    "papermill": {
     "duration": 0.04858,
     "end_time": "2021-07-09T06:26:32.603943",
     "exception": false,
     "start_time": "2021-07-09T06:26:32.555363",
     "status": "completed"
    },
    "tags": []
   },
   "outputs": [],
   "source": [
    "import pickle"
   ]
  },
  {
   "cell_type": "code",
   "execution_count": 52,
   "id": "enormous-racing",
   "metadata": {
    "execution": {
     "iopub.execute_input": "2021-07-09T06:26:32.696919Z",
     "iopub.status.busy": "2021-07-09T06:26:32.695927Z",
     "iopub.status.idle": "2021-07-09T06:26:33.062154Z",
     "shell.execute_reply": "2021-07-09T06:26:33.061653Z",
     "shell.execute_reply.started": "2021-07-07T19:09:19.841807Z"
    },
    "papermill": {
     "duration": 0.417161,
     "end_time": "2021-07-09T06:26:33.062303",
     "exception": false,
     "start_time": "2021-07-09T06:26:32.645142",
     "status": "completed"
    },
    "tags": []
   },
   "outputs": [],
   "source": [
    "pickle.dump(new_book,open('updatedbook_list.pkl','wb'))\n",
    "pickle.dump(similarity,open('similaritybook.pkl','wb'))"
   ]
  },
  {
   "cell_type": "code",
   "execution_count": null,
   "id": "accepting-people",
   "metadata": {
    "papermill": {
     "duration": 0.043405,
     "end_time": "2021-07-09T06:26:33.147873",
     "exception": false,
     "start_time": "2021-07-09T06:26:33.104468",
     "status": "completed"
    },
    "tags": []
   },
   "outputs": [],
   "source": []
  }
 ],
 "metadata": {
  "kernelspec": {
   "display_name": "Python 3",
   "language": "python",
   "name": "python3"
  },
  "language_info": {
   "codemirror_mode": {
    "name": "ipython",
    "version": 3
   },
   "file_extension": ".py",
   "mimetype": "text/x-python",
   "name": "python",
   "nbconvert_exporter": "python",
   "pygments_lexer": "ipython3",
   "version": "3.7.10"
  },
  "papermill": {
   "default_parameters": {},
   "duration": 24.849408,
   "end_time": "2021-07-09T06:26:34.002256",
   "environment_variables": {},
   "exception": null,
   "input_path": "__notebook__.ipynb",
   "output_path": "__notebook__.ipynb",
   "parameters": {},
   "start_time": "2021-07-09T06:26:09.152848",
   "version": "2.3.3"
  }
 },
 "nbformat": 4,
 "nbformat_minor": 5
}
